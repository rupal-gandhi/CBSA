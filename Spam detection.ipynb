{
 "cells": [
  {
   "cell_type": "markdown",
   "metadata": {},
   "source": [
    "## Assignment 3: Spam Detection with Random Forests"
   ]
  },
  {
   "cell_type": "markdown",
   "metadata": {},
   "source": [
    "1.  Write a python function that returns\n",
    "    1. the frequency of a given character in a string,\n",
    "    2. the frequency of a given word (maximal consecutive sequence of letters, case insensitive) in string,\n",
    "    3. a list of all maximal sequences of consecutive capital letters in a string,\n",
    "\n",
    "    in a string."
   ]
  },
  {
   "cell_type": "markdown",
   "metadata": {},
   "source": [
    "#### A"
   ]
  },
  {
   "cell_type": "code",
   "execution_count": 1,
   "metadata": {},
   "outputs": [],
   "source": [
    "import pandas as pd\n",
    "import numpy as np\n",
    "from sklearn.ensemble import RandomForestClassifier\n",
    "from sklearn.tree import DecisionTreeClassifier\n",
    "from sklearn.model_selection import cross_val_score,cross_validate,cross_val_predict\n",
    "import matplotlib.pyplot as plt\n",
    "from sklearn.metrics import accuracy_score\n",
    "from sklearn.model_selection import train_test_split"
   ]
  },
  {
   "cell_type": "code",
   "execution_count": 2,
   "metadata": {},
   "outputs": [],
   "source": [
    "def char_count(string,c):\n",
    "    string=str(string)\n",
    "    count=0\n",
    "    for i in string:\n",
    "        if i==c:\n",
    "            count+=1\n",
    "    return count"
   ]
  },
  {
   "cell_type": "markdown",
   "metadata": {},
   "source": [
    "#### B"
   ]
  },
  {
   "cell_type": "code",
   "execution_count": 3,
   "metadata": {},
   "outputs": [],
   "source": [
    "import re\n",
    "\n",
    "def word_count(string,w):\n",
    "    w=w.lower()\n",
    "    words=re.findall(r\"[\\w']+\", str(string).lower())\n",
    "    wcount=0\n",
    "    for i in words:\n",
    "        if i==w:\n",
    "            wcount+=1\n",
    "    return wcount"
   ]
  },
  {
   "cell_type": "markdown",
   "metadata": {},
   "source": [
    "#### C"
   ]
  },
  {
   "cell_type": "code",
   "execution_count": 4,
   "metadata": {},
   "outputs": [],
   "source": [
    "import re\n",
    "\n",
    "def get_max_uppercase_run_from_string(s):\n",
    "    list_of_uppercase_runs = re.findall(r\"[A-Z]+\", str(s))\n",
    "    return list_of_uppercase_runs"
   ]
  },
  {
   "cell_type": "code",
   "execution_count": 5,
   "metadata": {},
   "outputs": [],
   "source": [
    "from collections import Counter\n",
    "def max_len(lst):\n",
    "    m_len=[]\n",
    "    count = Counter(len(x) for x in lst)\n",
    "    for key in count:\n",
    "        m_len.append(key)\n",
    "    return m_len"
   ]
  },
  {
   "cell_type": "markdown",
   "metadata": {},
   "source": [
    "### 2.  For each message in the dataset `sms_spam.csv`, compute:\n",
    "    1. the frequency of the each of the words in the list `words` defined below,\n",
    "    2. the frequency of the each of the characters in the list `chars` defined below,\n",
    "    3. the average run length of a maximal sequence of capital letters,\n",
    "    4. the longest run length of a maximal sequence of capital letters,\n",
    "    5. the sum of the run lengths of the maximal sequences of capital letters.\n",
    "    \n",
    "**More precisely:**\n",
    "    \n",
    "- One can interpret *word* in a numbe of ways.\n",
    "If we interpret *word* it as a string of consecutive letters, the sentence,\n",
    "\"The reporter filed a report about reportables.\" contains three occurences of the word *report*.\n",
    "We could also interpred *word* as a string of consecutive letters, neither preceded nor followed by a letter,\n",
    "then that sentence would contain only one occurence of the work *report*.\n",
    "Choose whichever one of these interpretations your prefer. If you think of a better interpretation, feel free to use that.\n",
    "    \n",
    "- The simplest interpretation of maximal sequence of capital letters is a sequence of capital letters\n",
    "neither preceded nor followed by a capital letter.\n",
    "For example, in the string \"abcDEFGhiJKL345 MNO PQR\", \"DEFG\", \"JKL\", \"MNO\" and \"PQR\"\n",
    "are maximal sequences of capital letters while \"DEF\" \"KL\" and \"MNO PQR\" aren't.\n",
    "(The first two aren't maximal and the third doesn't consist entirely of capital letters.)\n",
    "This isn't the only interpretation. In the string \"He shouted, 'STOP SHOUTING AT ME!'\", one could argue that \"STOP SHOUTING AT ME\" should count as a single (maximal) sequence of capital letters. If you prefer such an interpretation, feel free to use it.\n",
    "    \n",
    "- These details aren't really the point. We're just trying to extract features for analysis. Any reasonable approach is fine.\n",
    "    \n",
    "3.  Arrange the results in a dataframe. The frequencies computed in 1. and 2. should go in columns named\n",
    "    `freq_<word>` and `freq_<char>`, respectively. The run lengths in 3., 4., and 5. should go in columns named\n",
    "    `capital_run_length_average`, `capital_run_length_longest`, and `capital_run_length_total`, respectively.\n",
    "    The last column in your dataframe should be the target, 1 if the target is spam and 0 if it isn't.\n",
    "    Save your dataset as a `.csv` file called `sms_spam_features.csv`.\n"
   ]
  },
  {
   "cell_type": "code",
   "execution_count": 6,
   "metadata": {},
   "outputs": [],
   "source": [
    "words = ['make', 'address', 'all', '3d', 'our', 'over', 'remove', 'internet', 'order', 'mail', 'receive', 'will', 'people',\n",
    "         'report', 'addresses', 'free', 'business', 'email', 'you', 'credit', 'your', 'font', '000', 'money', 'hp', 'hpl', \n",
    "         'george', '650', 'lab', 'labs', 'telnet', '857', 'data', '415', '85', 'technology', '1999', 'parts', 'pm', 'direct',\n",
    "         'cs', 'meeting', 'original', 'project', 're', 'edu', 'table', 'conference']\n",
    "chars = [';', '(', '[', '!', '$', '#']"
   ]
  },
  {
   "cell_type": "markdown",
   "metadata": {},
   "source": [
    "#### NOTE:\n",
    "- ##### I was getting error for original file sms_spam.csv. I didnot modified any data item but corrected one delimiter in one of the row. I am submitting my copy of csv with assignment for correctly processing this code.\n",
    "- ##### When reading csv, I notice messages are reading in three columns, so I am concatting three columns into one column named 'msg' and doing operations on 'msg' column."
   ]
  },
  {
   "cell_type": "markdown",
   "metadata": {},
   "source": [
    "# sms_spam.csv"
   ]
  },
  {
   "cell_type": "code",
   "execution_count": 7,
   "metadata": {},
   "outputs": [
    {
     "name": "stdout",
     "output_type": "stream",
     "text": [
      "Raw dataframe\n",
      "     v1                                                 v2 Unnamed: 2  \\\n",
      "0   ham  Go until jurong point, crazy.. Available only ...        NaN   \n",
      "1   ham                      Ok lar... Joking wif u oni...        NaN   \n",
      "2  spam  Free entry in 2 a wkly comp to win FA Cup fina...        NaN   \n",
      "3   ham  U dun say so early hor... U c already then say...        NaN   \n",
      "4   ham  Nah I don't think he goes to usf, he lives aro...        NaN   \n",
      "\n",
      "  Unnamed: 3 Unnamed: 4  \n",
      "0        NaN        NaN  \n",
      "1        NaN        NaN  \n",
      "2        NaN        NaN  \n",
      "3        NaN        NaN  \n",
      "4        NaN        NaN  \n",
      "\n",
      "\n",
      "\n",
      "After concatting three columns to msg column\n",
      "\n",
      "     v1                                                 v2 Unnamed: 2  \\\n",
      "0   ham  Go until jurong point, crazy.. Available only ...        NaN   \n",
      "1   ham                      Ok lar... Joking wif u oni...        NaN   \n",
      "2  spam  Free entry in 2 a wkly comp to win FA Cup fina...        NaN   \n",
      "3   ham  U dun say so early hor... U c already then say...        NaN   \n",
      "4   ham  Nah I don't think he goes to usf, he lives aro...        NaN   \n",
      "\n",
      "  Unnamed: 3 Unnamed: 4                                                msg  \n",
      "0        NaN        NaN  Go until jurong point, crazy.. Available only ...  \n",
      "1        NaN        NaN                   Ok lar... Joking wif u oni...     \n",
      "2        NaN        NaN  Free entry in 2 a wkly comp to win FA Cup fina...  \n",
      "3        NaN        NaN  U dun say so early hor... U c already then say...  \n",
      "4        NaN        NaN  Nah I don't think he goes to usf, he lives aro...  \n"
     ]
    }
   ],
   "source": [
    "data2=pd.read_csv(\"sms_spam.csv\")\n",
    "print(f\"Raw dataframe\\n{data2.head()}\\n\\n\\n\") #printing raw dataframe\n",
    "data2[\"msg\"]=data2[\"v2\"].fillna(' ')+data2[\"Unnamed: 2\"].fillna(' ')+data2[\"Unnamed: 3\"].fillna(' ')+data2[\"Unnamed: 4\"].fillna(' ')\n",
    "print(f\"After concatting three columns to msg column\\n\\n{data2.head()}\") #printing dataframe after concatting three messages into one column 'msg'"
   ]
  },
  {
   "cell_type": "markdown",
   "metadata": {},
   "source": [
    "### Q2: A & Q3, counting word frequency and creating column for each word."
   ]
  },
  {
   "cell_type": "code",
   "execution_count": 8,
   "metadata": {},
   "outputs": [],
   "source": [
    "for i in words:\n",
    "    data2[f\"word_freq_{i}\"]=data2['msg'].apply(word_count,w=i)"
   ]
  },
  {
   "cell_type": "markdown",
   "metadata": {},
   "source": [
    "### Q2: B & Q3, counting character frequency and creating column for each character."
   ]
  },
  {
   "cell_type": "code",
   "execution_count": 9,
   "metadata": {},
   "outputs": [],
   "source": [
    "for c in chars:\n",
    "    data2[f\"char_freq_{c}\"]=data2['msg'].apply(char_count,c=c)"
   ]
  },
  {
   "cell_type": "markdown",
   "metadata": {},
   "source": [
    "### Q2: C,D and E & Q3, creating column and adding numbers in column"
   ]
  },
  {
   "cell_type": "code",
   "execution_count": 10,
   "metadata": {},
   "outputs": [],
   "source": [
    "data2[\"maximum_string_list\"]=data2['msg'].apply(get_max_uppercase_run_from_string)\n",
    "\n",
    "data2[\"capital_run_length_average\"]=(data2['maximum_string_list'].apply(max_len)).apply(lambda x: np.mean(x) if x!=[] else 0)\n",
    "data2[\"capital_run_length_longest\"]=(data2['maximum_string_list'].apply(max_len)).apply(lambda x: np.max(x) if x!=[] else 0)\n",
    "data2[\"capital_run_length_total\"]=(data2['maximum_string_list'].apply(max_len)).apply(lambda x: np.sum(x) if x!=[] else 0)\n",
    "\n"
   ]
  },
  {
   "cell_type": "markdown",
   "metadata": {},
   "source": [
    "#### Creating target column based on spam or not classification."
   ]
  },
  {
   "cell_type": "code",
   "execution_count": 11,
   "metadata": {},
   "outputs": [],
   "source": [
    "data2[\"target\"]=(data2['v1'].apply(lambda x: 1 if x=='spam' else 0))"
   ]
  },
  {
   "cell_type": "code",
   "execution_count": 12,
   "metadata": {},
   "outputs": [
    {
     "data": {
      "text/html": [
       "<div>\n",
       "<style scoped>\n",
       "    .dataframe tbody tr th:only-of-type {\n",
       "        vertical-align: middle;\n",
       "    }\n",
       "\n",
       "    .dataframe tbody tr th {\n",
       "        vertical-align: top;\n",
       "    }\n",
       "\n",
       "    .dataframe thead th {\n",
       "        text-align: right;\n",
       "    }\n",
       "</style>\n",
       "<table border=\"1\" class=\"dataframe\">\n",
       "  <thead>\n",
       "    <tr style=\"text-align: right;\">\n",
       "      <th></th>\n",
       "      <th>v1</th>\n",
       "      <th>v2</th>\n",
       "      <th>Unnamed: 2</th>\n",
       "      <th>Unnamed: 3</th>\n",
       "      <th>Unnamed: 4</th>\n",
       "      <th>msg</th>\n",
       "      <th>word_freq_make</th>\n",
       "      <th>word_freq_address</th>\n",
       "      <th>word_freq_all</th>\n",
       "      <th>word_freq_3d</th>\n",
       "      <th>...</th>\n",
       "      <th>char_freq_(</th>\n",
       "      <th>char_freq_[</th>\n",
       "      <th>char_freq_!</th>\n",
       "      <th>char_freq_$</th>\n",
       "      <th>char_freq_#</th>\n",
       "      <th>maximum_string_list</th>\n",
       "      <th>capital_run_length_average</th>\n",
       "      <th>capital_run_length_longest</th>\n",
       "      <th>capital_run_length_total</th>\n",
       "      <th>target</th>\n",
       "    </tr>\n",
       "  </thead>\n",
       "  <tbody>\n",
       "    <tr>\n",
       "      <th>0</th>\n",
       "      <td>ham</td>\n",
       "      <td>Go until jurong point, crazy.. Available only ...</td>\n",
       "      <td>NaN</td>\n",
       "      <td>NaN</td>\n",
       "      <td>NaN</td>\n",
       "      <td>Go until jurong point, crazy.. Available only ...</td>\n",
       "      <td>0</td>\n",
       "      <td>0</td>\n",
       "      <td>0</td>\n",
       "      <td>0</td>\n",
       "      <td>...</td>\n",
       "      <td>0</td>\n",
       "      <td>0</td>\n",
       "      <td>0</td>\n",
       "      <td>0</td>\n",
       "      <td>0</td>\n",
       "      <td>[G, A, C]</td>\n",
       "      <td>1.0</td>\n",
       "      <td>1</td>\n",
       "      <td>1</td>\n",
       "      <td>0</td>\n",
       "    </tr>\n",
       "    <tr>\n",
       "      <th>1</th>\n",
       "      <td>ham</td>\n",
       "      <td>Ok lar... Joking wif u oni...</td>\n",
       "      <td>NaN</td>\n",
       "      <td>NaN</td>\n",
       "      <td>NaN</td>\n",
       "      <td>Ok lar... Joking wif u oni...</td>\n",
       "      <td>0</td>\n",
       "      <td>0</td>\n",
       "      <td>0</td>\n",
       "      <td>0</td>\n",
       "      <td>...</td>\n",
       "      <td>0</td>\n",
       "      <td>0</td>\n",
       "      <td>0</td>\n",
       "      <td>0</td>\n",
       "      <td>0</td>\n",
       "      <td>[O, J]</td>\n",
       "      <td>1.0</td>\n",
       "      <td>1</td>\n",
       "      <td>1</td>\n",
       "      <td>0</td>\n",
       "    </tr>\n",
       "    <tr>\n",
       "      <th>2</th>\n",
       "      <td>spam</td>\n",
       "      <td>Free entry in 2 a wkly comp to win FA Cup fina...</td>\n",
       "      <td>NaN</td>\n",
       "      <td>NaN</td>\n",
       "      <td>NaN</td>\n",
       "      <td>Free entry in 2 a wkly comp to win FA Cup fina...</td>\n",
       "      <td>0</td>\n",
       "      <td>0</td>\n",
       "      <td>0</td>\n",
       "      <td>0</td>\n",
       "      <td>...</td>\n",
       "      <td>1</td>\n",
       "      <td>0</td>\n",
       "      <td>0</td>\n",
       "      <td>0</td>\n",
       "      <td>0</td>\n",
       "      <td>[F, FA, C, M, T, FA, T, C]</td>\n",
       "      <td>1.5</td>\n",
       "      <td>2</td>\n",
       "      <td>3</td>\n",
       "      <td>1</td>\n",
       "    </tr>\n",
       "    <tr>\n",
       "      <th>3</th>\n",
       "      <td>ham</td>\n",
       "      <td>U dun say so early hor... U c already then say...</td>\n",
       "      <td>NaN</td>\n",
       "      <td>NaN</td>\n",
       "      <td>NaN</td>\n",
       "      <td>U dun say so early hor... U c already then say...</td>\n",
       "      <td>0</td>\n",
       "      <td>0</td>\n",
       "      <td>0</td>\n",
       "      <td>0</td>\n",
       "      <td>...</td>\n",
       "      <td>0</td>\n",
       "      <td>0</td>\n",
       "      <td>0</td>\n",
       "      <td>0</td>\n",
       "      <td>0</td>\n",
       "      <td>[U, U]</td>\n",
       "      <td>1.0</td>\n",
       "      <td>1</td>\n",
       "      <td>1</td>\n",
       "      <td>0</td>\n",
       "    </tr>\n",
       "    <tr>\n",
       "      <th>4</th>\n",
       "      <td>ham</td>\n",
       "      <td>Nah I don't think he goes to usf, he lives aro...</td>\n",
       "      <td>NaN</td>\n",
       "      <td>NaN</td>\n",
       "      <td>NaN</td>\n",
       "      <td>Nah I don't think he goes to usf, he lives aro...</td>\n",
       "      <td>0</td>\n",
       "      <td>0</td>\n",
       "      <td>0</td>\n",
       "      <td>0</td>\n",
       "      <td>...</td>\n",
       "      <td>0</td>\n",
       "      <td>0</td>\n",
       "      <td>0</td>\n",
       "      <td>0</td>\n",
       "      <td>0</td>\n",
       "      <td>[N, I]</td>\n",
       "      <td>1.0</td>\n",
       "      <td>1</td>\n",
       "      <td>1</td>\n",
       "      <td>0</td>\n",
       "    </tr>\n",
       "  </tbody>\n",
       "</table>\n",
       "<p>5 rows × 65 columns</p>\n",
       "</div>"
      ],
      "text/plain": [
       "     v1                                                 v2 Unnamed: 2  \\\n",
       "0   ham  Go until jurong point, crazy.. Available only ...        NaN   \n",
       "1   ham                      Ok lar... Joking wif u oni...        NaN   \n",
       "2  spam  Free entry in 2 a wkly comp to win FA Cup fina...        NaN   \n",
       "3   ham  U dun say so early hor... U c already then say...        NaN   \n",
       "4   ham  Nah I don't think he goes to usf, he lives aro...        NaN   \n",
       "\n",
       "  Unnamed: 3 Unnamed: 4                                                msg  \\\n",
       "0        NaN        NaN  Go until jurong point, crazy.. Available only ...   \n",
       "1        NaN        NaN                   Ok lar... Joking wif u oni...      \n",
       "2        NaN        NaN  Free entry in 2 a wkly comp to win FA Cup fina...   \n",
       "3        NaN        NaN  U dun say so early hor... U c already then say...   \n",
       "4        NaN        NaN  Nah I don't think he goes to usf, he lives aro...   \n",
       "\n",
       "   word_freq_make  word_freq_address  word_freq_all  word_freq_3d  ...  \\\n",
       "0               0                  0              0             0  ...   \n",
       "1               0                  0              0             0  ...   \n",
       "2               0                  0              0             0  ...   \n",
       "3               0                  0              0             0  ...   \n",
       "4               0                  0              0             0  ...   \n",
       "\n",
       "   char_freq_(  char_freq_[  char_freq_!  char_freq_$  char_freq_#  \\\n",
       "0            0            0            0            0            0   \n",
       "1            0            0            0            0            0   \n",
       "2            1            0            0            0            0   \n",
       "3            0            0            0            0            0   \n",
       "4            0            0            0            0            0   \n",
       "\n",
       "          maximum_string_list  capital_run_length_average  \\\n",
       "0                   [G, A, C]                         1.0   \n",
       "1                      [O, J]                         1.0   \n",
       "2  [F, FA, C, M, T, FA, T, C]                         1.5   \n",
       "3                      [U, U]                         1.0   \n",
       "4                      [N, I]                         1.0   \n",
       "\n",
       "   capital_run_length_longest  capital_run_length_total  target  \n",
       "0                           1                         1       0  \n",
       "1                           1                         1       0  \n",
       "2                           2                         3       1  \n",
       "3                           1                         1       0  \n",
       "4                           1                         1       0  \n",
       "\n",
       "[5 rows x 65 columns]"
      ]
     },
     "execution_count": 12,
     "metadata": {},
     "output_type": "execute_result"
    }
   ],
   "source": [
    "data2.head()"
   ]
  },
  {
   "cell_type": "markdown",
   "metadata": {},
   "source": [
    "#### Writing dataframe to csv file."
   ]
  },
  {
   "cell_type": "code",
   "execution_count": 13,
   "metadata": {},
   "outputs": [],
   "source": [
    "data2.to_csv(r'sms_spam_features.csv',index=False,header=True)"
   ]
  },
  {
   "cell_type": "markdown",
   "metadata": {},
   "source": [
    "#### 4.  Based on these 57 features, use a random forest tree to train a spam-detecting classifier:"
   ]
  },
  {
   "cell_type": "code",
   "execution_count": 14,
   "metadata": {},
   "outputs": [],
   "source": [
    "#data2.dtypes"
   ]
  },
  {
   "cell_type": "code",
   "execution_count": 15,
   "metadata": {},
   "outputs": [
    {
     "name": "stdout",
     "output_type": "stream",
     "text": [
      "(5572, 57) (5572,)\n"
     ]
    }
   ],
   "source": [
    "data3=data2.drop(['v1' , 'v2','Unnamed: 2','Unnamed: 3','Unnamed: 4','msg','maximum_string_list'], axis='columns')\n",
    "\n",
    "X=data3.drop(['target'],axis='columns')\n",
    "y=data3.target\n",
    "\n",
    "print(X.shape,y.shape)"
   ]
  },
  {
   "cell_type": "code",
   "execution_count": 16,
   "metadata": {},
   "outputs": [
    {
     "name": "stdout",
     "output_type": "stream",
     "text": [
      "(4457, 57) (4457,) (1115, 57) (1115,)\n"
     ]
    }
   ],
   "source": [
    "X_tr, X_te, y_tr, y_te = train_test_split(X, y, test_size=0.2)\n",
    "\n",
    "print(X_tr.shape, y_tr.shape, X_te.shape, y_te.shape)"
   ]
  },
  {
   "cell_type": "markdown",
   "metadata": {},
   "source": [
    "#### Below I am fitting and finding accuracy for Random Forest Classifier and Decision Tree Classifier. Also finding differnce of accuracy between two classifiers. Running code 10 times for test-train split and calculating mean of differences between two methods"
   ]
  },
  {
   "cell_type": "code",
   "execution_count": 17,
   "metadata": {},
   "outputs": [
    {
     "name": "stdout",
     "output_type": "stream",
     "text": [
      "\n",
      "Run # 1\n",
      "Accuracy of detecting spam sms_spam.csv and Random forest classifier =0.9533632286995516\n",
      "Accuracy of detecting spam sms_spam.csv and Decision Tree classifier =0.9497757847533632\n",
      "Difference of accuracy between Random Forect Classifier and Decision Tree Classifier= 0.003587\n",
      "\n",
      "\n",
      "Run # 2\n",
      "Accuracy of detecting spam sms_spam.csv and Random forest classifier =0.9354260089686098\n",
      "Accuracy of detecting spam sms_spam.csv and Decision Tree classifier =0.9300448430493273\n",
      "Difference of accuracy between Random Forect Classifier and Decision Tree Classifier= 0.005381\n",
      "\n",
      "\n",
      "Run # 3\n",
      "Accuracy of detecting spam sms_spam.csv and Random forest classifier =0.947085201793722\n",
      "Accuracy of detecting spam sms_spam.csv and Decision Tree classifier =0.947085201793722\n",
      "Difference of accuracy between Random Forect Classifier and Decision Tree Classifier= 0.0\n",
      "\n",
      "\n",
      "Run # 4\n",
      "Accuracy of detecting spam sms_spam.csv and Random forest classifier =0.947085201793722\n",
      "Accuracy of detecting spam sms_spam.csv and Decision Tree classifier =0.9434977578475336\n",
      "Difference of accuracy between Random Forect Classifier and Decision Tree Classifier= 0.003587\n",
      "\n",
      "\n",
      "Run # 5\n",
      "Accuracy of detecting spam sms_spam.csv and Random forest classifier =0.9506726457399103\n",
      "Accuracy of detecting spam sms_spam.csv and Decision Tree classifier =0.9488789237668162\n",
      "Difference of accuracy between Random Forect Classifier and Decision Tree Classifier= 0.001794\n",
      "\n",
      "\n",
      "Run # 6\n",
      "Accuracy of detecting spam sms_spam.csv and Random forest classifier =0.9417040358744395\n",
      "Accuracy of detecting spam sms_spam.csv and Decision Tree classifier =0.9381165919282511\n",
      "Difference of accuracy between Random Forect Classifier and Decision Tree Classifier= 0.003587\n",
      "\n",
      "\n",
      "Run # 7\n",
      "Accuracy of detecting spam sms_spam.csv and Random forest classifier =0.9533632286995516\n",
      "Accuracy of detecting spam sms_spam.csv and Decision Tree classifier =0.9551569506726457\n",
      "Difference of accuracy between Random Forect Classifier and Decision Tree Classifier= -0.001794\n",
      "\n",
      "\n",
      "Run # 8\n",
      "Accuracy of detecting spam sms_spam.csv and Random forest classifier =0.9426008968609866\n",
      "Accuracy of detecting spam sms_spam.csv and Decision Tree classifier =0.9515695067264573\n",
      "Difference of accuracy between Random Forect Classifier and Decision Tree Classifier= -0.008969\n",
      "\n",
      "\n",
      "Run # 9\n",
      "Accuracy of detecting spam sms_spam.csv and Random forest classifier =0.9434977578475336\n",
      "Accuracy of detecting spam sms_spam.csv and Decision Tree classifier =0.9488789237668162\n",
      "Difference of accuracy between Random Forect Classifier and Decision Tree Classifier= -0.005381\n",
      "\n",
      "\n",
      "Run # 10\n",
      "Accuracy of detecting spam sms_spam.csv and Random forest classifier =0.9596412556053812\n",
      "Accuracy of detecting spam sms_spam.csv and Decision Tree classifier =0.9560538116591928\n",
      "Difference of accuracy between Random Forect Classifier and Decision Tree Classifier= 0.003587\n",
      "\n",
      "Mean of differnece 0.0005381165919282726\n"
     ]
    }
   ],
   "source": [
    "import warnings\n",
    "warnings.filterwarnings(\"ignore\")\n",
    "\n",
    "diff=[]\n",
    "for i in range(10):\n",
    "    print(f\"\\nRun # {i+1}\")\n",
    "    X_tr, X_te, y_tr, y_te = train_test_split(X, y, test_size=0.2)\n",
    "    \n",
    "# Random forest classifier\n",
    "    RF_M=RandomForestClassifier()\n",
    "    RF_M.fit(X_tr,y_tr)\n",
    "    y_pr=RF_M.predict(X_te)\n",
    "    acc=accuracy_score(y_pr,y_te)\n",
    "    print(f\"Accuracy of detecting spam sms_spam.csv and Random forest classifier ={acc}\")\n",
    "# Decision tree classifier\n",
    "    DT_M=DecisionTreeClassifier()\n",
    "    DT_M.fit(X_tr,y_tr)\n",
    "    y_pr=DT_M.predict(X_te)\n",
    "    acc_DT=accuracy_score(y_pr,y_te)\n",
    "    print(f\"Accuracy of detecting spam sms_spam.csv and Decision Tree classifier ={acc_DT}\")\n",
    "    print(f\"Difference of accuracy between Random Forect Classifier and Decision Tree Classifier= {acc-acc_DT:.4}\\n\")\n",
    "    diff.append(acc-acc_DT)\n",
    "print(f\"Mean of differnece {np.mean(diff)}\")"
   ]
  },
  {
   "cell_type": "code",
   "execution_count": 18,
   "metadata": {},
   "outputs": [
    {
     "data": {
      "text/plain": [
       "array([7.83483056e-03, 7.52151163e-04, 9.68137639e-03, 4.19119899e-06,\n",
       "       1.73867628e-02, 3.50860862e-03, 2.49496668e-04, 3.63003689e-04,\n",
       "       5.35115379e-03, 1.21267540e-03, 2.78652439e-02, 1.18973035e-02,\n",
       "       1.49464484e-03, 5.52616022e-05, 0.00000000e+00, 6.43064621e-02,\n",
       "       5.03895496e-06, 1.90357638e-03, 4.14212184e-02, 3.01737840e-03,\n",
       "       4.13491772e-02, 0.00000000e+00, 6.85472713e-03, 3.18426468e-03,\n",
       "       2.82647096e-07, 0.00000000e+00, 0.00000000e+00, 1.94448768e-07,\n",
       "       3.04330371e-06, 0.00000000e+00, 0.00000000e+00, 0.00000000e+00,\n",
       "       1.09698635e-07, 0.00000000e+00, 0.00000000e+00, 0.00000000e+00,\n",
       "       0.00000000e+00, 1.81436465e-07, 1.87941728e-03, 4.11040753e-03,\n",
       "       3.24821008e-02, 1.23778764e-03, 4.13317299e-03, 2.15842276e-05,\n",
       "       8.04145405e-03, 1.86002562e-05, 0.00000000e+00, 1.75271976e-07,\n",
       "       2.98709371e-02, 1.94883181e-02, 1.07589667e-03, 8.32368655e-02,\n",
       "       2.01813596e-03, 1.14474087e-02, 1.97852450e-01, 1.52823034e-01,\n",
       "       2.00559895e-01])"
      ]
     },
     "execution_count": 18,
     "metadata": {},
     "output_type": "execute_result"
    }
   ],
   "source": [
    "RF_M.feature_importances_"
   ]
  },
  {
   "cell_type": "code",
   "execution_count": 19,
   "metadata": {},
   "outputs": [
    {
     "data": {
      "text/plain": [
       "array([1.22047796e-02, 1.52560795e-03, 5.55378335e-03, 2.23381784e-07,\n",
       "       1.99769538e-02, 1.94029257e-03, 2.25845081e-06, 7.11948494e-07,\n",
       "       7.88557064e-03, 2.17311820e-03, 2.56113611e-02, 1.30808261e-02,\n",
       "       1.76791099e-04, 2.23895600e-07, 0.00000000e+00, 5.18028218e-02,\n",
       "       6.22431557e-06, 2.00066693e-03, 4.06121661e-02, 2.51319053e-03,\n",
       "       2.17732040e-02, 0.00000000e+00, 6.63783228e-03, 5.44544102e-04,\n",
       "       1.13049582e-07, 0.00000000e+00, 0.00000000e+00, 1.12919115e-07,\n",
       "       2.48928283e-06, 0.00000000e+00, 0.00000000e+00, 0.00000000e+00,\n",
       "       0.00000000e+00, 0.00000000e+00, 0.00000000e+00, 0.00000000e+00,\n",
       "       0.00000000e+00, 0.00000000e+00, 1.13972923e-03, 3.33693859e-03,\n",
       "       1.13787183e-02, 8.37203165e-04, 3.90186576e-03, 5.11459398e-06,\n",
       "       1.98048900e-03, 7.24482895e-06, 0.00000000e+00, 1.12529067e-07,\n",
       "       6.39379605e-02, 1.32769344e-02, 0.00000000e+00, 5.38913006e-02,\n",
       "       3.10497876e-03, 3.19626601e-03, 5.23438311e-01, 2.72293777e-02,\n",
       "       7.33115872e-02])"
      ]
     },
     "execution_count": 19,
     "metadata": {},
     "output_type": "execute_result"
    }
   ],
   "source": [
    "DT_M.feature_importances_"
   ]
  },
  {
   "cell_type": "markdown",
   "metadata": {},
   "source": [
    "# sms_spam_cleaned.csv"
   ]
  },
  {
   "cell_type": "code",
   "execution_count": 20,
   "metadata": {},
   "outputs": [
    {
     "name": "stdout",
     "output_type": "stream",
     "text": [
      "Raw dataframe\n",
      "     v1                                                 v2\n",
      "0   ham  Go until jurong point, crazy.. Available only ...\n",
      "1   ham                      Ok lar... Joking wif u oni...\n",
      "2  spam  Free entry in 2 a wkly comp to win FA Cup fina...\n",
      "3   ham  U dun say so early hor... U c already then say...\n",
      "4   ham  Nah I don't think he goes to usf, he lives aro...\n",
      "\n",
      "\n",
      "\n"
     ]
    }
   ],
   "source": [
    "data2_sc=pd.read_csv(\"sms_spam_cleaned.csv\")\n",
    "print(f\"Raw dataframe\\n{data2_sc.head()}\\n\\n\\n\") #printing raw dataframe\n",
    "# data2[\"msg\"]=data2[\"v2\"].fillna(' ')+data2[\"Unnamed: 2\"].fillna(' ')+data2[\"Unnamed: 3\"].fillna(' ')+data2[\"Unnamed: 4\"].fillna(' ')\n",
    "# print(f\"After concatting three columns to msg column\\n\\n{data2.head()}\") #printing dataframe after concatting three messages into one column 'msg'"
   ]
  },
  {
   "cell_type": "code",
   "execution_count": 21,
   "metadata": {},
   "outputs": [],
   "source": [
    "for i in words:\n",
    "    data2_sc[f\"word_freq_{i}\"]=data2_sc['v2'].apply(word_count,w=i)"
   ]
  },
  {
   "cell_type": "markdown",
   "metadata": {},
   "source": [
    "### Q2: B & Q3, counting character frequency and creating column for each character."
   ]
  },
  {
   "cell_type": "code",
   "execution_count": 22,
   "metadata": {},
   "outputs": [],
   "source": [
    "for c in chars:\n",
    "    data2_sc[f\"char_freq_{c}\"]=data2_sc['v2'].apply(char_count,c=c)"
   ]
  },
  {
   "cell_type": "markdown",
   "metadata": {},
   "source": [
    "### Q2: C,D and E & Q3, creating column and adding numbers in column"
   ]
  },
  {
   "cell_type": "code",
   "execution_count": 23,
   "metadata": {},
   "outputs": [],
   "source": [
    "data2_sc[\"maximum_string_list\"]=data2_sc['v2'].apply(get_max_uppercase_run_from_string)\n",
    "\n",
    "data2_sc[\"capital_run_length_average\"]=(data2_sc['maximum_string_list'].apply(max_len)).apply(lambda x: np.mean(x) if x!=[] else 0)\n",
    "data2_sc[\"capital_run_length_longest\"]=(data2_sc['maximum_string_list'].apply(max_len)).apply(lambda x: np.max(x) if x!=[] else 0)\n",
    "data2_sc[\"capital_run_length_total\"]=(data2_sc['maximum_string_list'].apply(max_len)).apply(lambda x: np.sum(x) if x!=[] else 0)\n",
    "\n"
   ]
  },
  {
   "cell_type": "markdown",
   "metadata": {},
   "source": [
    "#### Creating target column based on spam or not classification."
   ]
  },
  {
   "cell_type": "code",
   "execution_count": 24,
   "metadata": {},
   "outputs": [],
   "source": [
    "data2_sc[\"target\"]=(data2_sc['v1'].apply(lambda x: 1 if x=='spam' else 0))"
   ]
  },
  {
   "cell_type": "code",
   "execution_count": 25,
   "metadata": {},
   "outputs": [],
   "source": [
    "data2_sc.to_csv(r'sms_spam_cleaned_features.csv',index=False,header=True)"
   ]
  },
  {
   "cell_type": "code",
   "execution_count": 26,
   "metadata": {},
   "outputs": [
    {
     "name": "stdout",
     "output_type": "stream",
     "text": [
      "(5564, 57) (5564,)\n"
     ]
    }
   ],
   "source": [
    "X_sc=data2_sc.drop(['v1','v2','maximum_string_list','target'],axis='columns')\n",
    "y_sc=data2_sc.target\n",
    "\n",
    "print(X_sc.shape,y_sc.shape)"
   ]
  },
  {
   "cell_type": "code",
   "execution_count": 27,
   "metadata": {},
   "outputs": [
    {
     "name": "stdout",
     "output_type": "stream",
     "text": [
      "(4451, 57) (4451,) (1113, 57) (1113,)\n"
     ]
    }
   ],
   "source": [
    "X_sc_tr, X_sc_te, y_sc_tr, y_sc_te = train_test_split(X_sc, y_sc, test_size=0.2)\n",
    "\n",
    "print(X_sc_tr.shape, y_sc_tr.shape, X_sc_te.shape, y_sc_te.shape)"
   ]
  },
  {
   "cell_type": "markdown",
   "metadata": {},
   "source": [
    "#### Below I am fitting and finding accuracy for Random Forest Classifier and Decision Tree Classifier. Also finding differnce of accuracy between two classifiers. Running code 10 times for test-train split and calculating mean of differences between two methods"
   ]
  },
  {
   "cell_type": "code",
   "execution_count": 28,
   "metadata": {},
   "outputs": [
    {
     "name": "stdout",
     "output_type": "stream",
     "text": [
      "Accuracy of detecting spam sms_spam.csv and Random forest classifier =0.9487870619946092\n",
      "Accuracy of detecting spam sms_spam.csv and Decision Tree classifier =0.9487870619946092\n",
      "Difference of accuracy between Random Forect Classifier and Decision Tree Classifier= 0.0\n",
      "\n"
     ]
    }
   ],
   "source": [
    "import warnings\n",
    "warnings.filterwarnings(\"ignore\")\n",
    "#diff_sc=[]\n",
    "\n",
    "# Random forest classifier\n",
    "RF_sc_M=RandomForestClassifier()\n",
    "RF_sc_M.fit(X_sc_tr,y_sc_tr)\n",
    "y_sc_pr=RF_sc_M.predict(X_sc_te)\n",
    "acc_sc=accuracy_score(y_sc_pr,y_sc_te)\n",
    "print(f\"Accuracy of detecting spam sms_spam.csv and Random forest classifier ={acc_sc}\")\n",
    "\n",
    "# Decision tree classifier\n",
    "\n",
    "DT_sc_M=DecisionTreeClassifier()\n",
    "DT_sc_M.fit(X_sc_tr,y_sc_tr)\n",
    "\n",
    "y_sc_pr=DT_sc_M.predict(X_sc_te)\n",
    "acc_sc_DT=accuracy_score(y_sc_pr,y_sc_te)\n",
    "print(f\"Accuracy of detecting spam sms_spam.csv and Decision Tree classifier ={acc_sc_DT}\")\n",
    "print(f\"Difference of accuracy between Random Forect Classifier and Decision Tree Classifier= {acc_sc-acc_sc_DT:.4}\\n\")\n",
    "# diff_sc.append(acc_sc-acc_sc_DT)\n",
    "# print(f\"Mean of differnece {np.mean(diff_sc)}\")"
   ]
  },
  {
   "cell_type": "markdown",
   "metadata": {},
   "source": [
    "#### 5.  Repeat 2. through 4. for the datasets `spambase.csv` and `spam_or_not_spam.csv`."
   ]
  },
  {
   "cell_type": "markdown",
   "metadata": {},
   "source": [
    "# spambase.csv"
   ]
  },
  {
   "cell_type": "code",
   "execution_count": 29,
   "metadata": {},
   "outputs": [
    {
     "name": "stdout",
     "output_type": "stream",
     "text": [
      "(4601, 57) (4601,)\n"
     ]
    }
   ],
   "source": [
    "data_spambase=pd.read_csv(\"spambase.csv\")\n",
    "\n",
    "X_spambase=data_spambase.drop(['target'],axis='columns')\n",
    "y_spambase=data_spambase.target\n",
    "\n",
    "print(X_spambase.shape,y_spambase.shape)"
   ]
  },
  {
   "cell_type": "code",
   "execution_count": 30,
   "metadata": {},
   "outputs": [
    {
     "name": "stdout",
     "output_type": "stream",
     "text": [
      "(3680, 57) (3680,) (921, 57) (921,)\n",
      "Accuracy of detecting spam based on mentioned word frequency and char frequency for sms_spam.csv dataset =0.9391965255157437\n"
     ]
    }
   ],
   "source": [
    "import warnings\n",
    "warnings.filterwarnings(\"ignore\")\n",
    "\n",
    "X_spambase_tr, X_spambase_te, y_spambase_tr, y_spambase_te = train_test_split(X_spambase, y_spambase, test_size=0.2)\n",
    "\n",
    "print(X_spambase_tr.shape, y_spambase_tr.shape, X_spambase_te.shape, y_spambase_te.shape)\n",
    "\n",
    "RF_M_spambase=RandomForestClassifier()\n",
    "RF_M_spambase.fit(X_spambase_tr,y_spambase_tr)\n",
    "y_spambase_pr=RF_M_spambase.predict(X_spambase_te)\n",
    "acc_spambase=accuracy_score(y_spambase_pr,y_spambase_te)\n",
    "print(f\"Accuracy of detecting spam based on mentioned word frequency and char frequency for sms_spam.csv dataset ={acc_spambase}\")"
   ]
  },
  {
   "cell_type": "markdown",
   "metadata": {},
   "source": [
    "# spam_or_not_spam.csv"
   ]
  },
  {
   "cell_type": "code",
   "execution_count": 31,
   "metadata": {},
   "outputs": [],
   "source": [
    "data_spam_or_not=pd.read_csv(\"spam_or_not_spam.csv\")\n"
   ]
  },
  {
   "cell_type": "code",
   "execution_count": 32,
   "metadata": {},
   "outputs": [
    {
     "data": {
      "text/plain": [
       "'martin a posted tassos papadopoulos the greek sculptor behind the plan judged that the limestone of mount kerdylio NUMBER miles east of salonika and not far from the mount athos monastic community was ideal for the patriotic sculpture as well as alexander s granite features NUMBER ft high and NUMBER ft wide a museum a restored amphitheatre and car park for admiring crowds are planned so is this mountain limestone or granite if it s limestone it ll weather pretty fast yahoo groups sponsor NUMBER dvds free s p join now URL to unsubscribe from this group send an email to forteana unsubscribe URL your use of yahoo groups is subject to URL '"
      ]
     },
     "execution_count": 32,
     "metadata": {},
     "output_type": "execute_result"
    }
   ],
   "source": [
    "data_spam_or_not['email'][1]\n"
   ]
  },
  {
   "cell_type": "code",
   "execution_count": 33,
   "metadata": {},
   "outputs": [],
   "source": [
    "data_spam_or_not[\"msg\"]=data_spam_or_not[\"email\"]"
   ]
  },
  {
   "cell_type": "code",
   "execution_count": 34,
   "metadata": {},
   "outputs": [],
   "source": [
    "for i in words:\n",
    "    data_spam_or_not[f\"word_freq_{i}\"]=data_spam_or_not['email'].apply(word_count,w=i)"
   ]
  },
  {
   "cell_type": "code",
   "execution_count": 35,
   "metadata": {},
   "outputs": [],
   "source": [
    "for c in chars:\n",
    "    data_spam_or_not[f\"char_freq_{c}\"]=data_spam_or_not['email'].apply(char_count,c=c)"
   ]
  },
  {
   "cell_type": "code",
   "execution_count": 36,
   "metadata": {},
   "outputs": [],
   "source": [
    "data_spam_or_not[\"maximum_string_list\"]=data_spam_or_not['email'].apply(get_max_uppercase_run_from_string)\n",
    "\n",
    "data_spam_or_not[\"capital_run_length_average\"]=(data_spam_or_not['maximum_string_list'].apply(max_len)).apply(lambda x: np.mean(x) if x!=[] else 0)\n",
    "data_spam_or_not[\"capital_run_length_longest\"]=(data_spam_or_not['maximum_string_list'].apply(max_len)).apply(lambda x: np.max(x) if x!=[] else 0)\n",
    "data_spam_or_not[\"capital_run_length_total\"]=(data_spam_or_not['maximum_string_list'].apply(max_len)).apply(lambda x: np.sum(x) if x!=[] else 0)\n",
    "\n"
   ]
  },
  {
   "cell_type": "code",
   "execution_count": 37,
   "metadata": {},
   "outputs": [
    {
     "name": "stdout",
     "output_type": "stream",
     "text": [
      "(3000, 57) (3000,)\n"
     ]
    }
   ],
   "source": [
    "X_spam_or_not=data_spam_or_not.drop(['email','msg','maximum_string_list','label'],axis='columns')\n",
    "y_spam_or_not=data_spam_or_not.label\n",
    "\n",
    "print(X_spam_or_not.shape,y_spam_or_not.shape)"
   ]
  },
  {
   "cell_type": "code",
   "execution_count": 38,
   "metadata": {},
   "outputs": [
    {
     "name": "stdout",
     "output_type": "stream",
     "text": [
      "(2400, 57) (2400,) (600, 57) (600,)\n",
      "Accuracy of detecting spam based on mentioned word frequency and char frequency for sms_spam.csv dataset =0.9391965255157437\n"
     ]
    }
   ],
   "source": [
    "import warnings\n",
    "warnings.filterwarnings(\"ignore\")\n",
    "\n",
    "X_spam_or_not_tr, X_spam_or_not_te, y_spam_or_not_tr, y_spam_or_not_te = train_test_split(X_spam_or_not, y_spam_or_not, test_size=0.2)\n",
    "\n",
    "print(X_spam_or_not_tr.shape, y_spam_or_not_tr.shape, X_spam_or_not_te.shape, y_spam_or_not_te.shape)\n",
    "\n",
    "RF_M_spam_or_not=RandomForestClassifier()\n",
    "RF_M_spam_or_not.fit(X_spam_or_not_tr,y_spam_or_not_tr)\n",
    "y_spam_or_not_pr=RF_M_spam_or_not.predict(X_spam_or_not_te)\n",
    "acc_spam_or_not=accuracy_score(y_spam_or_not_pr,y_spam_or_not_te)\n",
    "print(f\"Accuracy of detecting spam based on mentioned word frequency and char frequency for sms_spam.csv dataset ={acc_spambase}\")"
   ]
  },
  {
   "cell_type": "markdown",
   "metadata": {},
   "source": [
    "#### 6.  Comment on similarities/differences you notice between datasets (include our analysis of `spambase.csv`), classification methods, etc.\n",
    "\n",
    "7.  **Optional:** Construct spam detectors using other classifiers you've learned about, and compare their performances."
   ]
  },
  {
   "cell_type": "code",
   "execution_count": 39,
   "metadata": {},
   "outputs": [
    {
     "name": "stdout",
     "output_type": "stream",
     "text": [
      "ROC_AUC Score for: \n",
      " sms_spam_cleaned.csv = 0.8705423595119656\n",
      " spambase.csv = 0.9287651230705048\n",
      " spam_or_not_spam.csv = 0.8983324648254298\n"
     ]
    },
    {
     "data": {
      "image/png": "[encoded data removed]",
      "text/plain": [
       "<Figure size 1440x720 with 1 Axes>"
      ]
     },
     "metadata": {
      "needs_background": "light"
     },
     "output_type": "display_data"
    }
   ],
   "source": [
    "from sklearn.metrics import roc_curve\n",
    "from sklearn.metrics import roc_auc_score\n",
    "from matplotlib import pyplot\n",
    "\n",
    "sms_sc_auc=roc_auc_score(y_sc_te, y_sc_pr)\n",
    "sms_spambase_auc = roc_auc_score(y_spambase_te, y_spambase_pr)\n",
    "spam_or_not_auc = roc_auc_score(y_spam_or_not_te, y_spam_or_not_pr)\n",
    "print(f\"ROC_AUC Score for: \\n sms_spam_cleaned.csv = {sms_sc_auc}\\n spambase.csv = {sms_spambase_auc}\\n spam_or_not_spam.csv = {spam_or_not_auc}\")\n",
    "\n",
    "# calculate roc curves\n",
    "sms_sc_fpr, sms_sc_tpr, _ = roc_curve(y_sc_te, y_sc_pr)\n",
    "sms_spambase_fpr, sms_spambase_tpr, _ = roc_curve(y_spambase_te, y_spambase_pr)\n",
    "spam_or_not_fpr, spam_or_not_tpr, _ = roc_curve(y_spam_or_not_te, y_spam_or_not_pr)\n",
    "# plot the roc curve for the model\n",
    "pyplot.figure(figsize=(20,10))\n",
    "pyplot.plot(sms_sc_fpr, sms_sc_tpr, linestyle='--', label='sms_spam_cleaned')\n",
    "pyplot.plot(sms_spambase_fpr, sms_spambase_tpr, marker='.', label='spambase') #spam_or_not_spam\n",
    "pyplot.plot(spam_or_not_fpr, spam_or_not_tpr, marker='s', label='spam_or_not_spam')\n",
    "# axis labels\n",
    "pyplot.xlabel('False Positive Rate')\n",
    "pyplot.ylabel('True Positive Rate')\n",
    "# show the legend\n",
    "pyplot.legend()\n",
    "# show the plot\n",
    "pyplot.show()"
   ]
  }
 ],
 "metadata": {
  "kernelspec": {
   "display_name": "Python 3",
   "language": "python",
   "name": "python3"
  },
  "language_info": {
   "codemirror_mode": {
    "name": "ipython",
    "version": 3
   },
   "file_extension": ".py",
   "mimetype": "text/x-python",
   "name": "python",
   "nbconvert_exporter": "python",
   "pygments_lexer": "ipython3",
   "version": "3.7.3"
  }
 },
 "nbformat": 4,
 "nbformat_minor": 4
}
